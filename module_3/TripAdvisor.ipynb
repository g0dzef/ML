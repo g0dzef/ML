{
 "cells": [
  {
   "cell_type": "markdown",
   "metadata": {},
   "source": [
    "Первоначальная версия датасета состоит из десяти столбцов, содержащих следующую информацию:\n",
    "\n",
    "1. **Restaurant_id** — идентификационный номер ресторана / сети ресторанов;\n",
    "2. **City** — город, в котором находится ресторан;\n",
    "3. **Cuisine Style** — кухня или кухни, к которым можно отнести блюда, предлагаемые в ресторане;\n",
    "4. **Ranking** — место, которое занимает данный ресторан среди всех ресторанов своего города;\n",
    "5. **Rating** — рейтинг ресторана по данным TripAdvisor (именно это значение должна будет предсказывать модель);\n",
    "6. **Price Range** — диапазон цен в ресторане;\n",
    "7. **Number of Reviews** — количество отзывов о ресторане;\n",
    "8. **Reviews** — данные о двух отзывах, которые отображаются на сайте ресторана;\n",
    "9. **URL_TA** — URL страницы ресторана на TripAdvisor;\n",
    "10. **ID_TA** — идентификатор ресторана в базе данных TripAdvisor."
   ]
  },
  {
   "cell_type": "code",
   "execution_count": 161,
   "metadata": {},
   "outputs": [],
   "source": [
    "import pandas as pd\n",
    "import numpy as np\n",
    "from collections import Counter\n",
    "from datetime import datetime\n",
    "import re"
   ]
  },
  {
   "cell_type": "code",
   "execution_count": 330,
   "metadata": {
    "scrolled": true
   },
   "outputs": [
    {
     "data": {
      "text/html": [
       "<div>\n",
       "<style scoped>\n",
       "    .dataframe tbody tr th:only-of-type {\n",
       "        vertical-align: middle;\n",
       "    }\n",
       "\n",
       "    .dataframe tbody tr th {\n",
       "        vertical-align: top;\n",
       "    }\n",
       "\n",
       "    .dataframe thead th {\n",
       "        text-align: right;\n",
       "    }\n",
       "</style>\n",
       "<table border=\"1\" class=\"dataframe\">\n",
       "  <thead>\n",
       "    <tr style=\"text-align: right;\">\n",
       "      <th></th>\n",
       "      <th>Restaurant_id</th>\n",
       "      <th>City</th>\n",
       "      <th>Cuisine Style</th>\n",
       "      <th>Ranking</th>\n",
       "      <th>Rating</th>\n",
       "      <th>Price Range</th>\n",
       "      <th>Number of Reviews</th>\n",
       "      <th>Reviews</th>\n",
       "      <th>URL_TA</th>\n",
       "      <th>ID_TA</th>\n",
       "    </tr>\n",
       "  </thead>\n",
       "  <tbody>\n",
       "    <tr>\n",
       "      <th>0</th>\n",
       "      <td>id_5569</td>\n",
       "      <td>Paris</td>\n",
       "      <td>['European', 'French', 'International']</td>\n",
       "      <td>5570.0</td>\n",
       "      <td>3.5</td>\n",
       "      <td>$$ - $$$</td>\n",
       "      <td>194.0</td>\n",
       "      <td>[['Good food at your doorstep', 'A good hotel ...</td>\n",
       "      <td>/Restaurant_Review-g187147-d1912643-Reviews-R_...</td>\n",
       "      <td>d1912643</td>\n",
       "    </tr>\n",
       "    <tr>\n",
       "      <th>1</th>\n",
       "      <td>id_1535</td>\n",
       "      <td>Stockholm</td>\n",
       "      <td>NaN</td>\n",
       "      <td>1537.0</td>\n",
       "      <td>4.0</td>\n",
       "      <td>NaN</td>\n",
       "      <td>10.0</td>\n",
       "      <td>[['Unique cuisine', 'Delicious Nepalese food']...</td>\n",
       "      <td>/Restaurant_Review-g189852-d7992032-Reviews-Bu...</td>\n",
       "      <td>d7992032</td>\n",
       "    </tr>\n",
       "    <tr>\n",
       "      <th>2</th>\n",
       "      <td>id_352</td>\n",
       "      <td>London</td>\n",
       "      <td>['Japanese', 'Sushi', 'Asian', 'Grill', 'Veget...</td>\n",
       "      <td>353.0</td>\n",
       "      <td>4.5</td>\n",
       "      <td>$$$$</td>\n",
       "      <td>688.0</td>\n",
       "      <td>[['Catch up with friends', 'Not exceptional'],...</td>\n",
       "      <td>/Restaurant_Review-g186338-d8632781-Reviews-RO...</td>\n",
       "      <td>d8632781</td>\n",
       "    </tr>\n",
       "    <tr>\n",
       "      <th>3</th>\n",
       "      <td>id_3456</td>\n",
       "      <td>Berlin</td>\n",
       "      <td>NaN</td>\n",
       "      <td>3458.0</td>\n",
       "      <td>5.0</td>\n",
       "      <td>NaN</td>\n",
       "      <td>3.0</td>\n",
       "      <td>[[], []]</td>\n",
       "      <td>/Restaurant_Review-g187323-d1358776-Reviews-Es...</td>\n",
       "      <td>d1358776</td>\n",
       "    </tr>\n",
       "    <tr>\n",
       "      <th>4</th>\n",
       "      <td>id_615</td>\n",
       "      <td>Munich</td>\n",
       "      <td>['German', 'Central European', 'Vegetarian Fri...</td>\n",
       "      <td>621.0</td>\n",
       "      <td>4.0</td>\n",
       "      <td>$$ - $$$</td>\n",
       "      <td>84.0</td>\n",
       "      <td>[['Best place to try a Bavarian food', 'Nice b...</td>\n",
       "      <td>/Restaurant_Review-g187309-d6864963-Reviews-Au...</td>\n",
       "      <td>d6864963</td>\n",
       "    </tr>\n",
       "  </tbody>\n",
       "</table>\n",
       "</div>"
      ],
      "text/plain": [
       "  Restaurant_id       City                                      Cuisine Style  \\\n",
       "0       id_5569      Paris            ['European', 'French', 'International']   \n",
       "1       id_1535  Stockholm                                                NaN   \n",
       "2        id_352     London  ['Japanese', 'Sushi', 'Asian', 'Grill', 'Veget...   \n",
       "3       id_3456     Berlin                                                NaN   \n",
       "4        id_615     Munich  ['German', 'Central European', 'Vegetarian Fri...   \n",
       "\n",
       "   Ranking  Rating Price Range  Number of Reviews  \\\n",
       "0   5570.0     3.5    $$ - $$$              194.0   \n",
       "1   1537.0     4.0         NaN               10.0   \n",
       "2    353.0     4.5        $$$$              688.0   \n",
       "3   3458.0     5.0         NaN                3.0   \n",
       "4    621.0     4.0    $$ - $$$               84.0   \n",
       "\n",
       "                                             Reviews  \\\n",
       "0  [['Good food at your doorstep', 'A good hotel ...   \n",
       "1  [['Unique cuisine', 'Delicious Nepalese food']...   \n",
       "2  [['Catch up with friends', 'Not exceptional'],...   \n",
       "3                                           [[], []]   \n",
       "4  [['Best place to try a Bavarian food', 'Nice b...   \n",
       "\n",
       "                                              URL_TA     ID_TA  \n",
       "0  /Restaurant_Review-g187147-d1912643-Reviews-R_...  d1912643  \n",
       "1  /Restaurant_Review-g189852-d7992032-Reviews-Bu...  d7992032  \n",
       "2  /Restaurant_Review-g186338-d8632781-Reviews-RO...  d8632781  \n",
       "3  /Restaurant_Review-g187323-d1358776-Reviews-Es...  d1358776  \n",
       "4  /Restaurant_Review-g187309-d6864963-Reviews-Au...  d6864963  "
      ]
     },
     "execution_count": 330,
     "metadata": {},
     "output_type": "execute_result"
    }
   ],
   "source": [
    "data = pd.read_csv('main_task_new.csv')\n",
    "data.head(5)"
   ]
  },
  {
   "cell_type": "code",
   "execution_count": 7,
   "metadata": {},
   "outputs": [
    {
     "name": "stdout",
     "output_type": "stream",
     "text": [
      "<class 'pandas.core.frame.DataFrame'>\n",
      "RangeIndex: 40000 entries, 0 to 39999\n",
      "Data columns (total 10 columns):\n",
      " #   Column             Non-Null Count  Dtype  \n",
      "---  ------             --------------  -----  \n",
      " 0   Restaurant_id      40000 non-null  object \n",
      " 1   City               40000 non-null  object \n",
      " 2   Cuisine Style      30717 non-null  object \n",
      " 3   Ranking            40000 non-null  float64\n",
      " 4   Rating             40000 non-null  float64\n",
      " 5   Price Range        26114 non-null  object \n",
      " 6   Number of Reviews  37457 non-null  float64\n",
      " 7   Reviews            40000 non-null  object \n",
      " 8   URL_TA             40000 non-null  object \n",
      " 9   ID_TA              40000 non-null  object \n",
      "dtypes: float64(3), object(7)\n",
      "memory usage: 3.1+ MB\n"
     ]
    }
   ],
   "source": [
    "data.info()"
   ]
  },
  {
   "cell_type": "code",
   "execution_count": 30,
   "metadata": {},
   "outputs": [],
   "source": [
    "# Подсчёт количества пустых значений в столбцах датасета\n",
    "\n",
    "def find_null(col):\n",
    "    empty_values = data[col].isna().sum()\n",
    "    print(\n",
    "            f\"В столбце '{col}' количество пропусков = {empty_values}.\")\n",
    "    if empty_values > 0:\n",
    "        return col"
   ]
  },
  {
   "cell_type": "code",
   "execution_count": 15,
   "metadata": {},
   "outputs": [
    {
     "name": "stdout",
     "output_type": "stream",
     "text": [
      "Столбец Restaurant_id имеет тип данных - <class 'str'>\n",
      "Столбец City имеет тип данных - <class 'str'>\n",
      "Столбец Cuisine Style имеет тип данных - <class 'str'>\n",
      "Столбец Ranking имеет тип данных - <class 'numpy.float64'>\n",
      "Столбец Rating имеет тип данных - <class 'numpy.float64'>\n",
      "Столбец Price Range имеет тип данных - <class 'str'>\n",
      "Столбец Number of Reviews имеет тип данных - <class 'numpy.float64'>\n",
      "Столбец Reviews имеет тип данных - <class 'str'>\n",
      "Столбец URL_TA имеет тип данных - <class 'str'>\n",
      "Столбец ID_TA имеет тип данных - <class 'str'>\n"
     ]
    }
   ],
   "source": [
    "# Просмотр типа данных для каждого столбца датасета\n",
    "for col in data.columns:\n",
    "    print(f'Столбец {col} имеет тип данных - {type(data[col][0])}')"
   ]
  },
  {
   "cell_type": "code",
   "execution_count": 16,
   "metadata": {},
   "outputs": [
    {
     "data": {
      "text/html": [
       "<div>\n",
       "<style scoped>\n",
       "    .dataframe tbody tr th:only-of-type {\n",
       "        vertical-align: middle;\n",
       "    }\n",
       "\n",
       "    .dataframe tbody tr th {\n",
       "        vertical-align: top;\n",
       "    }\n",
       "\n",
       "    .dataframe thead th {\n",
       "        text-align: right;\n",
       "    }\n",
       "</style>\n",
       "<table border=\"1\" class=\"dataframe\">\n",
       "  <thead>\n",
       "    <tr style=\"text-align: right;\">\n",
       "      <th></th>\n",
       "      <th>City</th>\n",
       "      <th>Cuisine Style</th>\n",
       "      <th>Ranking</th>\n",
       "      <th>Price Range</th>\n",
       "      <th>Number of Reviews</th>\n",
       "      <th>Reviews</th>\n",
       "      <th>URL_TA</th>\n",
       "      <th>ID_TA</th>\n",
       "    </tr>\n",
       "  </thead>\n",
       "  <tbody>\n",
       "    <tr>\n",
       "      <th>0</th>\n",
       "      <td>Paris</td>\n",
       "      <td>['European', 'French', 'International']</td>\n",
       "      <td>5570.0</td>\n",
       "      <td>$$ - $$$</td>\n",
       "      <td>194.0</td>\n",
       "      <td>[['Good food at your doorstep', 'A good hotel ...</td>\n",
       "      <td>/Restaurant_Review-g187147-d1912643-Reviews-R_...</td>\n",
       "      <td>d1912643</td>\n",
       "    </tr>\n",
       "    <tr>\n",
       "      <th>1</th>\n",
       "      <td>Stockholm</td>\n",
       "      <td>NaN</td>\n",
       "      <td>1537.0</td>\n",
       "      <td>NaN</td>\n",
       "      <td>10.0</td>\n",
       "      <td>[['Unique cuisine', 'Delicious Nepalese food']...</td>\n",
       "      <td>/Restaurant_Review-g189852-d7992032-Reviews-Bu...</td>\n",
       "      <td>d7992032</td>\n",
       "    </tr>\n",
       "    <tr>\n",
       "      <th>2</th>\n",
       "      <td>London</td>\n",
       "      <td>['Japanese', 'Sushi', 'Asian', 'Grill', 'Veget...</td>\n",
       "      <td>353.0</td>\n",
       "      <td>$$$$</td>\n",
       "      <td>688.0</td>\n",
       "      <td>[['Catch up with friends', 'Not exceptional'],...</td>\n",
       "      <td>/Restaurant_Review-g186338-d8632781-Reviews-RO...</td>\n",
       "      <td>d8632781</td>\n",
       "    </tr>\n",
       "    <tr>\n",
       "      <th>3</th>\n",
       "      <td>Berlin</td>\n",
       "      <td>NaN</td>\n",
       "      <td>3458.0</td>\n",
       "      <td>NaN</td>\n",
       "      <td>3.0</td>\n",
       "      <td>[[], []]</td>\n",
       "      <td>/Restaurant_Review-g187323-d1358776-Reviews-Es...</td>\n",
       "      <td>d1358776</td>\n",
       "    </tr>\n",
       "    <tr>\n",
       "      <th>4</th>\n",
       "      <td>Munich</td>\n",
       "      <td>['German', 'Central European', 'Vegetarian Fri...</td>\n",
       "      <td>621.0</td>\n",
       "      <td>$$ - $$$</td>\n",
       "      <td>84.0</td>\n",
       "      <td>[['Best place to try a Bavarian food', 'Nice b...</td>\n",
       "      <td>/Restaurant_Review-g187309-d6864963-Reviews-Au...</td>\n",
       "      <td>d6864963</td>\n",
       "    </tr>\n",
       "    <tr>\n",
       "      <th>...</th>\n",
       "      <td>...</td>\n",
       "      <td>...</td>\n",
       "      <td>...</td>\n",
       "      <td>...</td>\n",
       "      <td>...</td>\n",
       "      <td>...</td>\n",
       "      <td>...</td>\n",
       "      <td>...</td>\n",
       "    </tr>\n",
       "    <tr>\n",
       "      <th>39995</th>\n",
       "      <td>Milan</td>\n",
       "      <td>['Italian', 'Vegetarian Friendly', 'Vegan Opti...</td>\n",
       "      <td>500.0</td>\n",
       "      <td>$$ - $$$</td>\n",
       "      <td>79.0</td>\n",
       "      <td>[['The real Italian experience!', 'Wonderful f...</td>\n",
       "      <td>/Restaurant_Review-g187849-d2104414-Reviews-Ro...</td>\n",
       "      <td>d2104414</td>\n",
       "    </tr>\n",
       "    <tr>\n",
       "      <th>39996</th>\n",
       "      <td>Paris</td>\n",
       "      <td>['French', 'American', 'Bar', 'European', 'Veg...</td>\n",
       "      <td>6341.0</td>\n",
       "      <td>$$ - $$$</td>\n",
       "      <td>542.0</td>\n",
       "      <td>[['Parisian atmosphere', 'Bit pricey but inter...</td>\n",
       "      <td>/Restaurant_Review-g187147-d1800036-Reviews-La...</td>\n",
       "      <td>d1800036</td>\n",
       "    </tr>\n",
       "    <tr>\n",
       "      <th>39997</th>\n",
       "      <td>Stockholm</td>\n",
       "      <td>['Japanese', 'Sushi']</td>\n",
       "      <td>1652.0</td>\n",
       "      <td>NaN</td>\n",
       "      <td>4.0</td>\n",
       "      <td>[['Good by swedish standards', 'A hidden jewel...</td>\n",
       "      <td>/Restaurant_Review-g189852-d947615-Reviews-Sus...</td>\n",
       "      <td>d947615</td>\n",
       "    </tr>\n",
       "    <tr>\n",
       "      <th>39998</th>\n",
       "      <td>Warsaw</td>\n",
       "      <td>['Polish', 'European', 'Eastern European', 'Ce...</td>\n",
       "      <td>641.0</td>\n",
       "      <td>$$ - $$$</td>\n",
       "      <td>70.0</td>\n",
       "      <td>[['Underground restaurant', 'Oldest Restaurant...</td>\n",
       "      <td>/Restaurant_Review-g274856-d1100838-Reviews-Ho...</td>\n",
       "      <td>d1100838</td>\n",
       "    </tr>\n",
       "    <tr>\n",
       "      <th>39999</th>\n",
       "      <td>Milan</td>\n",
       "      <td>['Spanish']</td>\n",
       "      <td>4827.0</td>\n",
       "      <td>$$ - $$$</td>\n",
       "      <td>260.0</td>\n",
       "      <td>[['Average', 'Nice an informal'], ['01/31/2016...</td>\n",
       "      <td>/Restaurant_Review-g187849-d1109020-Reviews-Ta...</td>\n",
       "      <td>d1109020</td>\n",
       "    </tr>\n",
       "  </tbody>\n",
       "</table>\n",
       "<p>40000 rows × 8 columns</p>\n",
       "</div>"
      ],
      "text/plain": [
       "            City                                      Cuisine Style  Ranking  \\\n",
       "0          Paris            ['European', 'French', 'International']   5570.0   \n",
       "1      Stockholm                                                NaN   1537.0   \n",
       "2         London  ['Japanese', 'Sushi', 'Asian', 'Grill', 'Veget...    353.0   \n",
       "3         Berlin                                                NaN   3458.0   \n",
       "4         Munich  ['German', 'Central European', 'Vegetarian Fri...    621.0   \n",
       "...          ...                                                ...      ...   \n",
       "39995      Milan  ['Italian', 'Vegetarian Friendly', 'Vegan Opti...    500.0   \n",
       "39996      Paris  ['French', 'American', 'Bar', 'European', 'Veg...   6341.0   \n",
       "39997  Stockholm                              ['Japanese', 'Sushi']   1652.0   \n",
       "39998     Warsaw  ['Polish', 'European', 'Eastern European', 'Ce...    641.0   \n",
       "39999      Milan                                        ['Spanish']   4827.0   \n",
       "\n",
       "      Price Range  Number of Reviews  \\\n",
       "0        $$ - $$$              194.0   \n",
       "1             NaN               10.0   \n",
       "2            $$$$              688.0   \n",
       "3             NaN                3.0   \n",
       "4        $$ - $$$               84.0   \n",
       "...           ...                ...   \n",
       "39995    $$ - $$$               79.0   \n",
       "39996    $$ - $$$              542.0   \n",
       "39997         NaN                4.0   \n",
       "39998    $$ - $$$               70.0   \n",
       "39999    $$ - $$$              260.0   \n",
       "\n",
       "                                                 Reviews  \\\n",
       "0      [['Good food at your doorstep', 'A good hotel ...   \n",
       "1      [['Unique cuisine', 'Delicious Nepalese food']...   \n",
       "2      [['Catch up with friends', 'Not exceptional'],...   \n",
       "3                                               [[], []]   \n",
       "4      [['Best place to try a Bavarian food', 'Nice b...   \n",
       "...                                                  ...   \n",
       "39995  [['The real Italian experience!', 'Wonderful f...   \n",
       "39996  [['Parisian atmosphere', 'Bit pricey but inter...   \n",
       "39997  [['Good by swedish standards', 'A hidden jewel...   \n",
       "39998  [['Underground restaurant', 'Oldest Restaurant...   \n",
       "39999  [['Average', 'Nice an informal'], ['01/31/2016...   \n",
       "\n",
       "                                                  URL_TA     ID_TA  \n",
       "0      /Restaurant_Review-g187147-d1912643-Reviews-R_...  d1912643  \n",
       "1      /Restaurant_Review-g189852-d7992032-Reviews-Bu...  d7992032  \n",
       "2      /Restaurant_Review-g186338-d8632781-Reviews-RO...  d8632781  \n",
       "3      /Restaurant_Review-g187323-d1358776-Reviews-Es...  d1358776  \n",
       "4      /Restaurant_Review-g187309-d6864963-Reviews-Au...  d6864963  \n",
       "...                                                  ...       ...  \n",
       "39995  /Restaurant_Review-g187849-d2104414-Reviews-Ro...  d2104414  \n",
       "39996  /Restaurant_Review-g187147-d1800036-Reviews-La...  d1800036  \n",
       "39997  /Restaurant_Review-g189852-d947615-Reviews-Sus...   d947615  \n",
       "39998  /Restaurant_Review-g274856-d1100838-Reviews-Ho...  d1100838  \n",
       "39999  /Restaurant_Review-g187849-d1109020-Reviews-Ta...  d1109020  \n",
       "\n",
       "[40000 rows x 8 columns]"
      ]
     },
     "execution_count": 16,
     "metadata": {},
     "output_type": "execute_result"
    }
   ],
   "source": [
    "X = data.drop(['Restaurant_id', 'Rating'], axis = 1)\n",
    "X"
   ]
  },
  {
   "cell_type": "code",
   "execution_count": 24,
   "metadata": {},
   "outputs": [],
   "source": [
    "for col in data.columns:\n",
    "    if data.loc[:,col].dtype == np.dtype('O'):\n",
    "        data = data.drop(col,axis=1)"
   ]
  },
  {
   "cell_type": "code",
   "execution_count": 31,
   "metadata": {},
   "outputs": [
    {
     "name": "stdout",
     "output_type": "stream",
     "text": [
      "В столбце 'Ranking' количество пропусков = 0.\n",
      "В столбце 'Rating' количество пропусков = 0.\n",
      "В столбце 'Number of Reviews' количество пропусков = 2543.\n"
     ]
    }
   ],
   "source": [
    "for col in data.columns:\n",
    "    empty_list = []\n",
    "    empty_list.append(find_null(col))"
   ]
  },
  {
   "cell_type": "code",
   "execution_count": 33,
   "metadata": {},
   "outputs": [],
   "source": [
    "for i in empty_list:\n",
    "    data[i].fillna(data[i].median())"
   ]
  },
  {
   "cell_type": "code",
   "execution_count": 34,
   "metadata": {},
   "outputs": [
    {
     "data": {
      "text/html": [
       "<div>\n",
       "<style scoped>\n",
       "    .dataframe tbody tr th:only-of-type {\n",
       "        vertical-align: middle;\n",
       "    }\n",
       "\n",
       "    .dataframe tbody tr th {\n",
       "        vertical-align: top;\n",
       "    }\n",
       "\n",
       "    .dataframe thead th {\n",
       "        text-align: right;\n",
       "    }\n",
       "</style>\n",
       "<table border=\"1\" class=\"dataframe\">\n",
       "  <thead>\n",
       "    <tr style=\"text-align: right;\">\n",
       "      <th></th>\n",
       "      <th>Ranking</th>\n",
       "      <th>Rating</th>\n",
       "      <th>Number of Reviews</th>\n",
       "    </tr>\n",
       "  </thead>\n",
       "  <tbody>\n",
       "    <tr>\n",
       "      <th>0</th>\n",
       "      <td>5570.0</td>\n",
       "      <td>3.5</td>\n",
       "      <td>194.0</td>\n",
       "    </tr>\n",
       "    <tr>\n",
       "      <th>1</th>\n",
       "      <td>1537.0</td>\n",
       "      <td>4.0</td>\n",
       "      <td>10.0</td>\n",
       "    </tr>\n",
       "    <tr>\n",
       "      <th>2</th>\n",
       "      <td>353.0</td>\n",
       "      <td>4.5</td>\n",
       "      <td>688.0</td>\n",
       "    </tr>\n",
       "    <tr>\n",
       "      <th>3</th>\n",
       "      <td>3458.0</td>\n",
       "      <td>5.0</td>\n",
       "      <td>3.0</td>\n",
       "    </tr>\n",
       "    <tr>\n",
       "      <th>4</th>\n",
       "      <td>621.0</td>\n",
       "      <td>4.0</td>\n",
       "      <td>84.0</td>\n",
       "    </tr>\n",
       "    <tr>\n",
       "      <th>...</th>\n",
       "      <td>...</td>\n",
       "      <td>...</td>\n",
       "      <td>...</td>\n",
       "    </tr>\n",
       "    <tr>\n",
       "      <th>39995</th>\n",
       "      <td>500.0</td>\n",
       "      <td>4.5</td>\n",
       "      <td>79.0</td>\n",
       "    </tr>\n",
       "    <tr>\n",
       "      <th>39996</th>\n",
       "      <td>6341.0</td>\n",
       "      <td>3.5</td>\n",
       "      <td>542.0</td>\n",
       "    </tr>\n",
       "    <tr>\n",
       "      <th>39997</th>\n",
       "      <td>1652.0</td>\n",
       "      <td>4.5</td>\n",
       "      <td>4.0</td>\n",
       "    </tr>\n",
       "    <tr>\n",
       "      <th>39998</th>\n",
       "      <td>641.0</td>\n",
       "      <td>4.0</td>\n",
       "      <td>70.0</td>\n",
       "    </tr>\n",
       "    <tr>\n",
       "      <th>39999</th>\n",
       "      <td>4827.0</td>\n",
       "      <td>3.0</td>\n",
       "      <td>260.0</td>\n",
       "    </tr>\n",
       "  </tbody>\n",
       "</table>\n",
       "<p>40000 rows × 3 columns</p>\n",
       "</div>"
      ],
      "text/plain": [
       "       Ranking  Rating  Number of Reviews\n",
       "0       5570.0     3.5              194.0\n",
       "1       1537.0     4.0               10.0\n",
       "2        353.0     4.5              688.0\n",
       "3       3458.0     5.0                3.0\n",
       "4        621.0     4.0               84.0\n",
       "...        ...     ...                ...\n",
       "39995    500.0     4.5               79.0\n",
       "39996   6341.0     3.5              542.0\n",
       "39997   1652.0     4.5                4.0\n",
       "39998    641.0     4.0               70.0\n",
       "39999   4827.0     3.0              260.0\n",
       "\n",
       "[40000 rows x 3 columns]"
      ]
     },
     "execution_count": 34,
     "metadata": {},
     "output_type": "execute_result"
    }
   ],
   "source": [
    "data"
   ]
  },
  {
   "cell_type": "code",
   "execution_count": 41,
   "metadata": {},
   "outputs": [
    {
     "data": {
      "text/plain": [
       "$$ - $$$    18412\n",
       "$            6279\n",
       "$$$$         1423\n",
       "Name: Price Range, dtype: int64"
      ]
     },
     "execution_count": 41,
     "metadata": {},
     "output_type": "execute_result"
    }
   ],
   "source": [
    "data['Price Range'].value_counts()"
   ]
  },
  {
   "cell_type": "code",
   "execution_count": 62,
   "metadata": {},
   "outputs": [
    {
     "data": {
      "text/plain": [
       "31"
      ]
     },
     "execution_count": 62,
     "metadata": {},
     "output_type": "execute_result"
    }
   ],
   "source": [
    "len(data['City'].value_counts())"
   ]
  },
  {
   "cell_type": "code",
   "execution_count": 65,
   "metadata": {
    "scrolled": true
   },
   "outputs": [
    {
     "data": {
      "text/plain": [
       "39"
      ]
     },
     "execution_count": 65,
     "metadata": {},
     "output_type": "execute_result"
    }
   ],
   "source": [
    "len(data['Cuisine Style'][0])"
   ]
  },
  {
   "cell_type": "markdown",
   "metadata": {},
   "source": [
    "# 4.3 Вопросы о кухнях"
   ]
  },
  {
   "cell_type": "code",
   "execution_count": 279,
   "metadata": {},
   "outputs": [],
   "source": [
    "test = data.copy()"
   ]
  },
  {
   "cell_type": "code",
   "execution_count": 331,
   "metadata": {},
   "outputs": [],
   "source": [
    "#data['Cuisine Style'] = data['Cuisine Style'].apply(lambda x : re.findall(r'\\w+',x) if not pd.isna(x) else ['Unknown'])"
   ]
  },
  {
   "cell_type": "code",
   "execution_count": 280,
   "metadata": {},
   "outputs": [],
   "source": [
    "test['Cuisine Style'] = test['Cuisine Style'].apply(lambda x : re.sub(r\"[]['']\",'',x) if not pd.isna(x) else 'Unknown')"
   ]
  },
  {
   "cell_type": "code",
   "execution_count": 281,
   "metadata": {
    "scrolled": true
   },
   "outputs": [
    {
     "data": {
      "text/html": [
       "<div>\n",
       "<style scoped>\n",
       "    .dataframe tbody tr th:only-of-type {\n",
       "        vertical-align: middle;\n",
       "    }\n",
       "\n",
       "    .dataframe tbody tr th {\n",
       "        vertical-align: top;\n",
       "    }\n",
       "\n",
       "    .dataframe thead th {\n",
       "        text-align: right;\n",
       "    }\n",
       "</style>\n",
       "<table border=\"1\" class=\"dataframe\">\n",
       "  <thead>\n",
       "    <tr style=\"text-align: right;\">\n",
       "      <th></th>\n",
       "      <th>Restaurant_id</th>\n",
       "      <th>City</th>\n",
       "      <th>Cuisine Style</th>\n",
       "      <th>Ranking</th>\n",
       "      <th>Rating</th>\n",
       "      <th>Price Range</th>\n",
       "      <th>Number of Reviews</th>\n",
       "      <th>Reviews</th>\n",
       "      <th>URL_TA</th>\n",
       "      <th>ID_TA</th>\n",
       "    </tr>\n",
       "  </thead>\n",
       "  <tbody>\n",
       "    <tr>\n",
       "      <th>0</th>\n",
       "      <td>id_5569</td>\n",
       "      <td>Paris</td>\n",
       "      <td>European, French, International</td>\n",
       "      <td>5570.0</td>\n",
       "      <td>3.5</td>\n",
       "      <td>$$ - $$$</td>\n",
       "      <td>194.0</td>\n",
       "      <td>[['Good food at your doorstep', 'A good hotel ...</td>\n",
       "      <td>/Restaurant_Review-g187147-d1912643-Reviews-R_...</td>\n",
       "      <td>d1912643</td>\n",
       "    </tr>\n",
       "    <tr>\n",
       "      <th>1</th>\n",
       "      <td>id_1535</td>\n",
       "      <td>Stockholm</td>\n",
       "      <td>Unknown</td>\n",
       "      <td>1537.0</td>\n",
       "      <td>4.0</td>\n",
       "      <td>NaN</td>\n",
       "      <td>10.0</td>\n",
       "      <td>[['Unique cuisine', 'Delicious Nepalese food']...</td>\n",
       "      <td>/Restaurant_Review-g189852-d7992032-Reviews-Bu...</td>\n",
       "      <td>d7992032</td>\n",
       "    </tr>\n",
       "    <tr>\n",
       "      <th>2</th>\n",
       "      <td>id_352</td>\n",
       "      <td>London</td>\n",
       "      <td>Japanese, Sushi, Asian, Grill, Vegetarian Frie...</td>\n",
       "      <td>353.0</td>\n",
       "      <td>4.5</td>\n",
       "      <td>$$$$</td>\n",
       "      <td>688.0</td>\n",
       "      <td>[['Catch up with friends', 'Not exceptional'],...</td>\n",
       "      <td>/Restaurant_Review-g186338-d8632781-Reviews-RO...</td>\n",
       "      <td>d8632781</td>\n",
       "    </tr>\n",
       "    <tr>\n",
       "      <th>3</th>\n",
       "      <td>id_3456</td>\n",
       "      <td>Berlin</td>\n",
       "      <td>Unknown</td>\n",
       "      <td>3458.0</td>\n",
       "      <td>5.0</td>\n",
       "      <td>NaN</td>\n",
       "      <td>3.0</td>\n",
       "      <td>[[], []]</td>\n",
       "      <td>/Restaurant_Review-g187323-d1358776-Reviews-Es...</td>\n",
       "      <td>d1358776</td>\n",
       "    </tr>\n",
       "    <tr>\n",
       "      <th>4</th>\n",
       "      <td>id_615</td>\n",
       "      <td>Munich</td>\n",
       "      <td>German, Central European, Vegetarian Friendly</td>\n",
       "      <td>621.0</td>\n",
       "      <td>4.0</td>\n",
       "      <td>$$ - $$$</td>\n",
       "      <td>84.0</td>\n",
       "      <td>[['Best place to try a Bavarian food', 'Nice b...</td>\n",
       "      <td>/Restaurant_Review-g187309-d6864963-Reviews-Au...</td>\n",
       "      <td>d6864963</td>\n",
       "    </tr>\n",
       "  </tbody>\n",
       "</table>\n",
       "</div>"
      ],
      "text/plain": [
       "  Restaurant_id       City                                      Cuisine Style  \\\n",
       "0       id_5569      Paris                    European, French, International   \n",
       "1       id_1535  Stockholm                                            Unknown   \n",
       "2        id_352     London  Japanese, Sushi, Asian, Grill, Vegetarian Frie...   \n",
       "3       id_3456     Berlin                                            Unknown   \n",
       "4        id_615     Munich      German, Central European, Vegetarian Friendly   \n",
       "\n",
       "   Ranking  Rating Price Range  Number of Reviews  \\\n",
       "0   5570.0     3.5    $$ - $$$              194.0   \n",
       "1   1537.0     4.0         NaN               10.0   \n",
       "2    353.0     4.5        $$$$              688.0   \n",
       "3   3458.0     5.0         NaN                3.0   \n",
       "4    621.0     4.0    $$ - $$$               84.0   \n",
       "\n",
       "                                             Reviews  \\\n",
       "0  [['Good food at your doorstep', 'A good hotel ...   \n",
       "1  [['Unique cuisine', 'Delicious Nepalese food']...   \n",
       "2  [['Catch up with friends', 'Not exceptional'],...   \n",
       "3                                           [[], []]   \n",
       "4  [['Best place to try a Bavarian food', 'Nice b...   \n",
       "\n",
       "                                              URL_TA     ID_TA  \n",
       "0  /Restaurant_Review-g187147-d1912643-Reviews-R_...  d1912643  \n",
       "1  /Restaurant_Review-g189852-d7992032-Reviews-Bu...  d7992032  \n",
       "2  /Restaurant_Review-g186338-d8632781-Reviews-RO...  d8632781  \n",
       "3  /Restaurant_Review-g187323-d1358776-Reviews-Es...  d1358776  \n",
       "4  /Restaurant_Review-g187309-d6864963-Reviews-Au...  d6864963  "
      ]
     },
     "execution_count": 281,
     "metadata": {},
     "output_type": "execute_result"
    }
   ],
   "source": [
    "test.head(5)"
   ]
  },
  {
   "cell_type": "markdown",
   "metadata": {},
   "source": [
    "## Сколько типов кухонь представлено в наборе данных?"
   ]
  },
  {
   "cell_type": "code",
   "execution_count": 285,
   "metadata": {},
   "outputs": [],
   "source": [
    "t = Counter(test['Cuisine Style'].str.split(', ').sum())"
   ]
  },
  {
   "cell_type": "code",
   "execution_count": 393,
   "metadata": {},
   "outputs": [
    {
     "data": {
      "text/plain": [
       "125"
      ]
     },
     "execution_count": 393,
     "metadata": {},
     "output_type": "execute_result"
    }
   ],
   "source": [
    "len(t) - 1"
   ]
  },
  {
   "cell_type": "markdown",
   "metadata": {},
   "source": [
    "## Какая кухня представлена в наибольшем количестве ресторанов?"
   ]
  },
  {
   "cell_type": "code",
   "execution_count": 394,
   "metadata": {},
   "outputs": [
    {
     "data": {
      "text/plain": [
       "[('Vegetarian Friendly', 11189)]"
      ]
     },
     "execution_count": 394,
     "metadata": {},
     "output_type": "execute_result"
    }
   ],
   "source": [
    "t.most_common(1)"
   ]
  },
  {
   "cell_type": "code",
   "execution_count": 395,
   "metadata": {},
   "outputs": [],
   "source": [
    "# data.head(8)"
   ]
  },
  {
   "cell_type": "markdown",
   "metadata": {},
   "source": [
    "## Какое среднее количество кухонь предлагается в одном ресторане?"
   ]
  },
  {
   "cell_type": "code",
   "execution_count": 385,
   "metadata": {},
   "outputs": [],
   "source": [
    "test['Cuisine Style'] = test['Cuisine Style'].str.split(', ')"
   ]
  },
  {
   "cell_type": "code",
   "execution_count": 398,
   "metadata": {},
   "outputs": [
    {
     "data": {
      "text/html": [
       "<div>\n",
       "<style scoped>\n",
       "    .dataframe tbody tr th:only-of-type {\n",
       "        vertical-align: middle;\n",
       "    }\n",
       "\n",
       "    .dataframe tbody tr th {\n",
       "        vertical-align: top;\n",
       "    }\n",
       "\n",
       "    .dataframe thead th {\n",
       "        text-align: right;\n",
       "    }\n",
       "</style>\n",
       "<table border=\"1\" class=\"dataframe\">\n",
       "  <thead>\n",
       "    <tr style=\"text-align: right;\">\n",
       "      <th></th>\n",
       "      <th>Restaurant_id</th>\n",
       "      <th>City</th>\n",
       "      <th>Cuisine Style</th>\n",
       "      <th>Ranking</th>\n",
       "      <th>Rating</th>\n",
       "      <th>Price Range</th>\n",
       "      <th>Number of Reviews</th>\n",
       "      <th>Reviews</th>\n",
       "      <th>URL_TA</th>\n",
       "      <th>ID_TA</th>\n",
       "    </tr>\n",
       "  </thead>\n",
       "  <tbody>\n",
       "    <tr>\n",
       "      <th>0</th>\n",
       "      <td>id_5569</td>\n",
       "      <td>Paris</td>\n",
       "      <td>[European, French, International]</td>\n",
       "      <td>5570.0</td>\n",
       "      <td>3.5</td>\n",
       "      <td>$$ - $$$</td>\n",
       "      <td>194.0</td>\n",
       "      <td>[['Good food at your doorstep', 'A good hotel ...</td>\n",
       "      <td>/Restaurant_Review-g187147-d1912643-Reviews-R_...</td>\n",
       "      <td>d1912643</td>\n",
       "    </tr>\n",
       "    <tr>\n",
       "      <th>1</th>\n",
       "      <td>id_1535</td>\n",
       "      <td>Stockholm</td>\n",
       "      <td>[Unknown]</td>\n",
       "      <td>1537.0</td>\n",
       "      <td>4.0</td>\n",
       "      <td>NaN</td>\n",
       "      <td>10.0</td>\n",
       "      <td>[['Unique cuisine', 'Delicious Nepalese food']...</td>\n",
       "      <td>/Restaurant_Review-g189852-d7992032-Reviews-Bu...</td>\n",
       "      <td>d7992032</td>\n",
       "    </tr>\n",
       "  </tbody>\n",
       "</table>\n",
       "</div>"
      ],
      "text/plain": [
       "  Restaurant_id       City                      Cuisine Style  Ranking  \\\n",
       "0       id_5569      Paris  [European, French, International]   5570.0   \n",
       "1       id_1535  Stockholm                          [Unknown]   1537.0   \n",
       "\n",
       "   Rating Price Range  Number of Reviews  \\\n",
       "0     3.5    $$ - $$$              194.0   \n",
       "1     4.0         NaN               10.0   \n",
       "\n",
       "                                             Reviews  \\\n",
       "0  [['Good food at your doorstep', 'A good hotel ...   \n",
       "1  [['Unique cuisine', 'Delicious Nepalese food']...   \n",
       "\n",
       "                                              URL_TA     ID_TA  \n",
       "0  /Restaurant_Review-g187147-d1912643-Reviews-R_...  d1912643  \n",
       "1  /Restaurant_Review-g189852-d7992032-Reviews-Bu...  d7992032  "
      ]
     },
     "execution_count": 398,
     "metadata": {},
     "output_type": "execute_result"
    }
   ],
   "source": [
    "test.head(2)"
   ]
  },
  {
   "cell_type": "code",
   "execution_count": 396,
   "metadata": {},
   "outputs": [],
   "source": [
    "summ = 0\n",
    "for i in test['Cuisine Style']:\n",
    "    summ += len(i)"
   ]
  },
  {
   "cell_type": "code",
   "execution_count": 397,
   "metadata": {},
   "outputs": [
    {
     "data": {
      "text/plain": [
       "2.6224"
      ]
     },
     "execution_count": 397,
     "metadata": {},
     "output_type": "execute_result"
    }
   ],
   "source": [
    "summ/test.shape[0]"
   ]
  },
  {
   "cell_type": "markdown",
   "metadata": {},
   "source": [
    "# 4.4 Вопросы об отзывах"
   ]
  },
  {
   "cell_type": "code",
   "execution_count": 399,
   "metadata": {},
   "outputs": [
    {
     "data": {
      "text/plain": [
       "\"[['Good food at your doorstep', 'A good hotel restaurant'], ['12/31/2017', '11/20/2017']]\""
      ]
     },
     "execution_count": 399,
     "metadata": {},
     "output_type": "execute_result"
    }
   ],
   "source": [
    "test['Reviews'][0]"
   ]
  },
  {
   "cell_type": "code",
   "execution_count": 400,
   "metadata": {},
   "outputs": [],
   "source": [
    "#test['Reviews'] = test['Reviews'].apply(lambda x : re.sub(r\"[]['']\",'',x) if not pd.isna(x) else 'Unknown')"
   ]
  },
  {
   "cell_type": "code",
   "execution_count": 419,
   "metadata": {},
   "outputs": [
    {
     "data": {
      "text/plain": [
       "0        [['Good food at your doorstep', 'A good hotel ...\n",
       "1        [['Unique cuisine', 'Delicious Nepalese food']...\n",
       "2        [['Catch up with friends', 'Not exceptional'],...\n",
       "3                                                 [[], []]\n",
       "4        [['Best place to try a Bavarian food', 'Nice b...\n",
       "                               ...                        \n",
       "39995    [['The real Italian experience!', 'Wonderful f...\n",
       "39996    [['Parisian atmosphere', 'Bit pricey but inter...\n",
       "39997    [['Good by swedish standards', 'A hidden jewel...\n",
       "39998    [['Underground restaurant', 'Oldest Restaurant...\n",
       "39999    [['Average', 'Nice an informal'], ['01/31/2016...\n",
       "Name: Reviews, Length: 40000, dtype: object"
      ]
     },
     "execution_count": 419,
     "metadata": {},
     "output_type": "execute_result"
    }
   ],
   "source": [
    "test['Reviews'].apply(lambda x : re.sub(r\"['][']\",'',x))"
   ]
  },
  {
   "cell_type": "code",
   "execution_count": 443,
   "metadata": {},
   "outputs": [],
   "source": [
    "pattern = re.compile('\\d+\\/\\d+\\/\\d+')\n",
    "test['Reviews_date'] = test['Reviews'].apply(lambda x: pattern.findall(x))"
   ]
  },
  {
   "cell_type": "code",
   "execution_count": 445,
   "metadata": {},
   "outputs": [
    {
     "data": {
      "text/plain": [
       "'12/31/2017'"
      ]
     },
     "execution_count": 445,
     "metadata": {},
     "output_type": "execute_result"
    }
   ],
   "source": [
    "test['Reviews_date'][0][0]"
   ]
  },
  {
   "cell_type": "code",
   "execution_count": 446,
   "metadata": {},
   "outputs": [
    {
     "data": {
      "text/plain": [
       "0        1231201711202017\n",
       "1        0706201706192016\n",
       "2        0108201801062018\n",
       "3                        \n",
       "4        1118201702192017\n",
       "               ...       \n",
       "39995    1216201711122017\n",
       "39996    1221201712122017\n",
       "39997    1103201604122008\n",
       "39998    0711201706182017\n",
       "39999    0131201607042012\n",
       "Name: Reviews, Length: 40000, dtype: object"
      ]
     },
     "execution_count": 446,
     "metadata": {},
     "output_type": "execute_result"
    }
   ],
   "source": [
    "test['Reviews'].apply(lambda x : re.sub(r\"[\\D]\",'',x))"
   ]
  },
  {
   "cell_type": "code",
   "execution_count": null,
   "metadata": {},
   "outputs": [],
   "source": []
  }
 ],
 "metadata": {
  "kernelspec": {
   "display_name": "Python 3",
   "language": "python",
   "name": "python3"
  },
  "language_info": {
   "codemirror_mode": {
    "name": "ipython",
    "version": 3
   },
   "file_extension": ".py",
   "mimetype": "text/x-python",
   "name": "python",
   "nbconvert_exporter": "python",
   "pygments_lexer": "ipython3",
   "version": "3.8.5"
  }
 },
 "nbformat": 4,
 "nbformat_minor": 4
}
